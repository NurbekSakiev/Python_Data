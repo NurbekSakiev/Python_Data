{
 "metadata": {
  "name": "",
  "signature": "sha256:f052935a9b17d44fe40a24514b81c11a5ead73c79948c0118ff86d38687ed86c"
 },
 "nbformat": 3,
 "nbformat_minor": 0,
 "worksheets": [
  {
   "cells": [
    {
     "cell_type": "code",
     "collapsed": false,
     "input": [
      "import numpy as np"
     ],
     "language": "python",
     "metadata": {},
     "outputs": [],
     "prompt_number": 1
    },
    {
     "cell_type": "code",
     "collapsed": false,
     "input": [
      "man np"
     ],
     "language": "python",
     "metadata": {},
     "outputs": [],
     "prompt_number": 2
    },
    {
     "cell_type": "code",
     "collapsed": false,
     "input": [
      "man numpy"
     ],
     "language": "python",
     "metadata": {},
     "outputs": [],
     "prompt_number": 17
    },
    {
     "cell_type": "code",
     "collapsed": false,
     "input": [
      "from IPython.display import HTML, SVG, YouTubeVideo"
     ],
     "language": "python",
     "metadata": {},
     "outputs": [],
     "prompt_number": 21
    },
    {
     "cell_type": "code",
     "collapsed": false,
     "input": [
      "HTML('''\n",
      "<table style=\"border: 2px solid black;\">\n",
      "''' + \n",
      "''.join(['<tr>' + \n",
      "         ''.join(['<td>{row},{col}</td>'.format(\n",
      "            row=row, col=col\n",
      "            ) for col in range(5)]) +\n",
      "         '</tr>' for row in range(5)]) +\n",
      "'''\n",
      "</table>\n",
      "''')"
     ],
     "language": "python",
     "metadata": {},
     "outputs": [
      {
       "html": [
        "\n",
        "<table style=\"border: 2px solid black;\">\n",
        "<tr><td>0,0</td><td>0,1</td><td>0,2</td><td>0,3</td><td>0,4</td></tr><tr><td>1,0</td><td>1,1</td><td>1,2</td><td>1,3</td><td>1,4</td></tr><tr><td>2,0</td><td>2,1</td><td>2,2</td><td>2,3</td><td>2,4</td></tr><tr><td>3,0</td><td>3,1</td><td>3,2</td><td>3,3</td><td>3,4</td></tr><tr><td>4,0</td><td>4,1</td><td>4,2</td><td>4,3</td><td>4,4</td></tr>\n",
        "</table>\n"
       ],
       "metadata": {},
       "output_type": "pyout",
       "prompt_number": 22,
       "text": [
        "<IPython.core.display.HTML at 0x104f4be90>"
       ]
      }
     ],
     "prompt_number": 22
    },
    {
     "cell_type": "code",
     "collapsed": false,
     "input": [
      "SVG('''<svg width=\"600\" height=\"80\">''' + \n",
      "''.join(['''<circle cx=\"{x}\" cy=\"{y}\" r=\"{r}\"\n",
      "        fill=\"red\" stroke-width=\"2\" stroke=\"black\">\n",
      "        </circle>'''.format(\n",
      "            x=(30+3*i)*(10-i), y=30, r=3.*float(i)\n",
      "        ) for i in range(10)]) + \n",
      "'''</svg>''')"
     ],
     "language": "python",
     "metadata": {},
     "outputs": [
      {
       "metadata": {},
       "output_type": "pyout",
       "prompt_number": 23,
       "svg": [
        "<svg height=\"80\" width=\"600\"><circle cx=\"300\" cy=\"30\" fill=\"red\" r=\"0.0\" stroke=\"black\" stroke-width=\"2\">\n",
        "        </circle><circle cx=\"297\" cy=\"30\" fill=\"red\" r=\"3.0\" stroke=\"black\" stroke-width=\"2\">\n",
        "        </circle><circle cx=\"288\" cy=\"30\" fill=\"red\" r=\"6.0\" stroke=\"black\" stroke-width=\"2\">\n",
        "        </circle><circle cx=\"273\" cy=\"30\" fill=\"red\" r=\"9.0\" stroke=\"black\" stroke-width=\"2\">\n",
        "        </circle><circle cx=\"252\" cy=\"30\" fill=\"red\" r=\"12.0\" stroke=\"black\" stroke-width=\"2\">\n",
        "        </circle><circle cx=\"225\" cy=\"30\" fill=\"red\" r=\"15.0\" stroke=\"black\" stroke-width=\"2\">\n",
        "        </circle><circle cx=\"192\" cy=\"30\" fill=\"red\" r=\"18.0\" stroke=\"black\" stroke-width=\"2\">\n",
        "        </circle><circle cx=\"153\" cy=\"30\" fill=\"red\" r=\"21.0\" stroke=\"black\" stroke-width=\"2\">\n",
        "        </circle><circle cx=\"108\" cy=\"30\" fill=\"red\" r=\"24.0\" stroke=\"black\" stroke-width=\"2\">\n",
        "        </circle><circle cx=\"57\" cy=\"30\" fill=\"red\" r=\"27.0\" stroke=\"black\" stroke-width=\"2\">\n",
        "        </circle></svg>"
       ],
       "text": [
        "<IPython.core.display.SVG at 0x104f4bbd0>"
       ]
      }
     ],
     "prompt_number": 23
    },
    {
     "cell_type": "code",
     "collapsed": false,
     "input": [
      "YouTubeVideo('j9YpkSX7NNM')"
     ],
     "language": "python",
     "metadata": {},
     "outputs": [
      {
       "html": [
        "\n",
        "        <iframe\n",
        "            width=\"400\"\n",
        "            height=300\"\n",
        "            src=\"https://www.youtube.com/embed/j9YpkSX7NNM\"\n",
        "            frameborder=\"0\"\n",
        "            allowfullscreen\n",
        "        ></iframe>\n",
        "        "
       ],
       "metadata": {},
       "output_type": "pyout",
       "prompt_number": 24,
       "text": [
        "<IPython.lib.display.YouTubeVideo at 0x104f4bad0>"
       ]
      }
     ],
     "prompt_number": 24
    },
    {
     "cell_type": "code",
     "collapsed": false,
     "input": [
      "from collections import OrderedDict\n",
      "from IPython.display import display, clear_output\n",
      "from IPython.html.widgets import DropdownWidget"
     ],
     "language": "python",
     "metadata": {},
     "outputs": [],
     "prompt_number": 1
    },
    {
     "cell_type": "code",
     "collapsed": false,
     "input": [
      "dw = DropdownWidget(values = OrderedDict({\n",
      "        ('SciPy 2012', 'iwVvqwLDsJo'),\n",
      "        ('PyCon 2012', '2G5YTlheCbw'),\n",
      "        ('SciPy 2013', 'j9YpkSX7NNM')}))\n",
      "def on_value_change(name, val):\n",
      "    clear_output()\n",
      "    display(YouTubeVideo(val))\n",
      "    \n",
      "dw.on_trait_change(on_value_change, 'value')\n",
      "dw.value = dw.values['SciPy 2013']\n",
      "display(dw)"
     ],
     "language": "python",
     "metadata": {},
     "outputs": [
      {
       "ename": "NameError",
       "evalue": "global name 'YouTubeVideo' is not defined",
       "output_type": "pyerr",
       "traceback": [
        "\u001b[0;31m---------------------------------------------------------------------------\u001b[0m\n\u001b[0;31mNameError\u001b[0m                                 Traceback (most recent call last)",
        "\u001b[0;32m<ipython-input-2-cef3ebf731ab>\u001b[0m in \u001b[0;36m<module>\u001b[0;34m()\u001b[0m\n\u001b[1;32m      8\u001b[0m \u001b[0;34m\u001b[0m\u001b[0m\n\u001b[1;32m      9\u001b[0m \u001b[0mdw\u001b[0m\u001b[0;34m.\u001b[0m\u001b[0mon_trait_change\u001b[0m\u001b[0;34m(\u001b[0m\u001b[0mon_value_change\u001b[0m\u001b[0;34m,\u001b[0m \u001b[0;34m'value'\u001b[0m\u001b[0;34m)\u001b[0m\u001b[0;34m\u001b[0m\u001b[0m\n\u001b[0;32m---> 10\u001b[0;31m \u001b[0mdw\u001b[0m\u001b[0;34m.\u001b[0m\u001b[0mvalue\u001b[0m \u001b[0;34m=\u001b[0m \u001b[0mdw\u001b[0m\u001b[0;34m.\u001b[0m\u001b[0mvalues\u001b[0m\u001b[0;34m[\u001b[0m\u001b[0;34m'SciPy 2013'\u001b[0m\u001b[0;34m]\u001b[0m\u001b[0;34m\u001b[0m\u001b[0m\n\u001b[0m\u001b[1;32m     11\u001b[0m \u001b[0mdisplay\u001b[0m\u001b[0;34m(\u001b[0m\u001b[0mdw\u001b[0m\u001b[0;34m)\u001b[0m\u001b[0;34m\u001b[0m\u001b[0m\n",
        "\u001b[0;32m//anaconda/lib/python2.7/site-packages/IPython/utils/traitlets.pyc\u001b[0m in \u001b[0;36m__set__\u001b[0;34m(self, obj, value)\u001b[0m\n\u001b[1;32m    369\u001b[0m             \u001b[0;31m# we explicitly compare silent to True just in case the equality\u001b[0m\u001b[0;34m\u001b[0m\u001b[0;34m\u001b[0m\u001b[0m\n\u001b[1;32m    370\u001b[0m             \u001b[0;31m# comparison above returns something other than True/False\u001b[0m\u001b[0;34m\u001b[0m\u001b[0;34m\u001b[0m\u001b[0m\n\u001b[0;32m--> 371\u001b[0;31m             \u001b[0mobj\u001b[0m\u001b[0;34m.\u001b[0m\u001b[0m_notify_trait\u001b[0m\u001b[0;34m(\u001b[0m\u001b[0mself\u001b[0m\u001b[0;34m.\u001b[0m\u001b[0mname\u001b[0m\u001b[0;34m,\u001b[0m \u001b[0mold_value\u001b[0m\u001b[0;34m,\u001b[0m \u001b[0mnew_value\u001b[0m\u001b[0;34m)\u001b[0m\u001b[0;34m\u001b[0m\u001b[0m\n\u001b[0m\u001b[1;32m    372\u001b[0m \u001b[0;34m\u001b[0m\u001b[0m\n\u001b[1;32m    373\u001b[0m     \u001b[0;32mdef\u001b[0m \u001b[0m_validate\u001b[0m\u001b[0;34m(\u001b[0m\u001b[0mself\u001b[0m\u001b[0;34m,\u001b[0m \u001b[0mobj\u001b[0m\u001b[0;34m,\u001b[0m \u001b[0mvalue\u001b[0m\u001b[0;34m)\u001b[0m\u001b[0;34m:\u001b[0m\u001b[0;34m\u001b[0m\u001b[0m\n",
        "\u001b[0;32m//anaconda/lib/python2.7/site-packages/IPython/utils/traitlets.pyc\u001b[0m in \u001b[0;36m_notify_trait\u001b[0;34m(self, name, old_value, new_value)\u001b[0m\n\u001b[1;32m    516\u001b[0m                     \u001b[0mc\u001b[0m\u001b[0;34m(\u001b[0m\u001b[0mname\u001b[0m\u001b[0;34m)\u001b[0m\u001b[0;34m\u001b[0m\u001b[0m\n\u001b[1;32m    517\u001b[0m                 \u001b[0;32melif\u001b[0m \u001b[0mnargs\u001b[0m \u001b[0;34m+\u001b[0m \u001b[0moffset\u001b[0m \u001b[0;34m==\u001b[0m \u001b[0;36m2\u001b[0m\u001b[0;34m:\u001b[0m\u001b[0;34m\u001b[0m\u001b[0m\n\u001b[0;32m--> 518\u001b[0;31m                     \u001b[0mc\u001b[0m\u001b[0;34m(\u001b[0m\u001b[0mname\u001b[0m\u001b[0;34m,\u001b[0m \u001b[0mnew_value\u001b[0m\u001b[0;34m)\u001b[0m\u001b[0;34m\u001b[0m\u001b[0m\n\u001b[0m\u001b[1;32m    519\u001b[0m                 \u001b[0;32melif\u001b[0m \u001b[0mnargs\u001b[0m \u001b[0;34m+\u001b[0m \u001b[0moffset\u001b[0m \u001b[0;34m==\u001b[0m \u001b[0;36m3\u001b[0m\u001b[0;34m:\u001b[0m\u001b[0;34m\u001b[0m\u001b[0m\n\u001b[1;32m    520\u001b[0m                     \u001b[0mc\u001b[0m\u001b[0;34m(\u001b[0m\u001b[0mname\u001b[0m\u001b[0;34m,\u001b[0m \u001b[0mold_value\u001b[0m\u001b[0;34m,\u001b[0m \u001b[0mnew_value\u001b[0m\u001b[0;34m)\u001b[0m\u001b[0;34m\u001b[0m\u001b[0m\n",
        "\u001b[0;32m<ipython-input-2-cef3ebf731ab>\u001b[0m in \u001b[0;36mon_value_change\u001b[0;34m(name, val)\u001b[0m\n\u001b[1;32m      5\u001b[0m \u001b[0;32mdef\u001b[0m \u001b[0mon_value_change\u001b[0m\u001b[0;34m(\u001b[0m\u001b[0mname\u001b[0m\u001b[0;34m,\u001b[0m \u001b[0mval\u001b[0m\u001b[0;34m)\u001b[0m\u001b[0;34m:\u001b[0m\u001b[0;34m\u001b[0m\u001b[0m\n\u001b[1;32m      6\u001b[0m     \u001b[0mclear_output\u001b[0m\u001b[0;34m(\u001b[0m\u001b[0;34m)\u001b[0m\u001b[0;34m\u001b[0m\u001b[0m\n\u001b[0;32m----> 7\u001b[0;31m     \u001b[0mdisplay\u001b[0m\u001b[0;34m(\u001b[0m\u001b[0mYouTubeVideo\u001b[0m\u001b[0;34m(\u001b[0m\u001b[0mval\u001b[0m\u001b[0;34m)\u001b[0m\u001b[0;34m)\u001b[0m\u001b[0;34m\u001b[0m\u001b[0m\n\u001b[0m\u001b[1;32m      8\u001b[0m \u001b[0;34m\u001b[0m\u001b[0m\n\u001b[1;32m      9\u001b[0m \u001b[0mdw\u001b[0m\u001b[0;34m.\u001b[0m\u001b[0mon_trait_change\u001b[0m\u001b[0;34m(\u001b[0m\u001b[0mon_value_change\u001b[0m\u001b[0;34m,\u001b[0m \u001b[0;34m'value'\u001b[0m\u001b[0;34m)\u001b[0m\u001b[0;34m\u001b[0m\u001b[0m\n",
        "\u001b[0;31mNameError\u001b[0m: global name 'YouTubeVideo' is not defined"
       ]
      }
     ],
     "prompt_number": 2
    },
    {
     "cell_type": "code",
     "collapsed": false,
     "input": [
      "# We create a DropdownWidget, with a dictionary containing\n",
      "# the keys (video name) and the values (Youtube identifier) \n",
      "# of every menu item.\n",
      "dw = DropdownWidget(values=OrderedDict([\n",
      "                        ('SciPy 2012', 'iwVvqwLDsJo'), \n",
      "                        ('PyCon 2012', '2G5YTlheCbw'),\n",
      "                        ('SciPy 2013', 'j9YpkSX7NNM')]))\n",
      "# We create a callback function that displays the requested\n",
      "# Youtube video.\n",
      "def on_value_change(name, val):\n",
      "    clear_output()\n",
      "    display(YouTubeVideo(val))\n",
      "# Every time the user selects an item, the function\n",
      "# `on_value_change` is called, and the `val` argument\n",
      "# contains the value of the selected item.\n",
      "dw.on_trait_change(on_value_change, 'value')\n",
      "# We choose a default value.\n",
      "dw.value = dw.values['SciPy 2013']\n",
      "# Finally, we display the widget.\n",
      "display(dw)"
     ],
     "language": "python",
     "metadata": {},
     "outputs": [
      {
       "ename": "NameError",
       "evalue": "global name 'YouTubeVideo' is not defined",
       "output_type": "pyerr",
       "traceback": [
        "\u001b[0;31m---------------------------------------------------------------------------\u001b[0m\n\u001b[0;31mNameError\u001b[0m                                 Traceback (most recent call last)",
        "\u001b[0;32m<ipython-input-3-4033489b45db>\u001b[0m in \u001b[0;36m<module>\u001b[0;34m()\u001b[0m\n\u001b[1;32m     16\u001b[0m \u001b[0mdw\u001b[0m\u001b[0;34m.\u001b[0m\u001b[0mon_trait_change\u001b[0m\u001b[0;34m(\u001b[0m\u001b[0mon_value_change\u001b[0m\u001b[0;34m,\u001b[0m \u001b[0;34m'value'\u001b[0m\u001b[0;34m)\u001b[0m\u001b[0;34m\u001b[0m\u001b[0m\n\u001b[1;32m     17\u001b[0m \u001b[0;31m# We choose a default value.\u001b[0m\u001b[0;34m\u001b[0m\u001b[0;34m\u001b[0m\u001b[0m\n\u001b[0;32m---> 18\u001b[0;31m \u001b[0mdw\u001b[0m\u001b[0;34m.\u001b[0m\u001b[0mvalue\u001b[0m \u001b[0;34m=\u001b[0m \u001b[0mdw\u001b[0m\u001b[0;34m.\u001b[0m\u001b[0mvalues\u001b[0m\u001b[0;34m[\u001b[0m\u001b[0;34m'SciPy 2013'\u001b[0m\u001b[0;34m]\u001b[0m\u001b[0;34m\u001b[0m\u001b[0m\n\u001b[0m\u001b[1;32m     19\u001b[0m \u001b[0;31m# Finally, we display the widget.\u001b[0m\u001b[0;34m\u001b[0m\u001b[0;34m\u001b[0m\u001b[0m\n\u001b[1;32m     20\u001b[0m \u001b[0mdisplay\u001b[0m\u001b[0;34m(\u001b[0m\u001b[0mdw\u001b[0m\u001b[0;34m)\u001b[0m\u001b[0;34m\u001b[0m\u001b[0m\n",
        "\u001b[0;32m//anaconda/lib/python2.7/site-packages/IPython/utils/traitlets.pyc\u001b[0m in \u001b[0;36m__set__\u001b[0;34m(self, obj, value)\u001b[0m\n\u001b[1;32m    369\u001b[0m             \u001b[0;31m# we explicitly compare silent to True just in case the equality\u001b[0m\u001b[0;34m\u001b[0m\u001b[0;34m\u001b[0m\u001b[0m\n\u001b[1;32m    370\u001b[0m             \u001b[0;31m# comparison above returns something other than True/False\u001b[0m\u001b[0;34m\u001b[0m\u001b[0;34m\u001b[0m\u001b[0m\n\u001b[0;32m--> 371\u001b[0;31m             \u001b[0mobj\u001b[0m\u001b[0;34m.\u001b[0m\u001b[0m_notify_trait\u001b[0m\u001b[0;34m(\u001b[0m\u001b[0mself\u001b[0m\u001b[0;34m.\u001b[0m\u001b[0mname\u001b[0m\u001b[0;34m,\u001b[0m \u001b[0mold_value\u001b[0m\u001b[0;34m,\u001b[0m \u001b[0mnew_value\u001b[0m\u001b[0;34m)\u001b[0m\u001b[0;34m\u001b[0m\u001b[0m\n\u001b[0m\u001b[1;32m    372\u001b[0m \u001b[0;34m\u001b[0m\u001b[0m\n\u001b[1;32m    373\u001b[0m     \u001b[0;32mdef\u001b[0m \u001b[0m_validate\u001b[0m\u001b[0;34m(\u001b[0m\u001b[0mself\u001b[0m\u001b[0;34m,\u001b[0m \u001b[0mobj\u001b[0m\u001b[0;34m,\u001b[0m \u001b[0mvalue\u001b[0m\u001b[0;34m)\u001b[0m\u001b[0;34m:\u001b[0m\u001b[0;34m\u001b[0m\u001b[0m\n",
        "\u001b[0;32m//anaconda/lib/python2.7/site-packages/IPython/utils/traitlets.pyc\u001b[0m in \u001b[0;36m_notify_trait\u001b[0;34m(self, name, old_value, new_value)\u001b[0m\n\u001b[1;32m    516\u001b[0m                     \u001b[0mc\u001b[0m\u001b[0;34m(\u001b[0m\u001b[0mname\u001b[0m\u001b[0;34m)\u001b[0m\u001b[0;34m\u001b[0m\u001b[0m\n\u001b[1;32m    517\u001b[0m                 \u001b[0;32melif\u001b[0m \u001b[0mnargs\u001b[0m \u001b[0;34m+\u001b[0m \u001b[0moffset\u001b[0m \u001b[0;34m==\u001b[0m \u001b[0;36m2\u001b[0m\u001b[0;34m:\u001b[0m\u001b[0;34m\u001b[0m\u001b[0m\n\u001b[0;32m--> 518\u001b[0;31m                     \u001b[0mc\u001b[0m\u001b[0;34m(\u001b[0m\u001b[0mname\u001b[0m\u001b[0;34m,\u001b[0m \u001b[0mnew_value\u001b[0m\u001b[0;34m)\u001b[0m\u001b[0;34m\u001b[0m\u001b[0m\n\u001b[0m\u001b[1;32m    519\u001b[0m                 \u001b[0;32melif\u001b[0m \u001b[0mnargs\u001b[0m \u001b[0;34m+\u001b[0m \u001b[0moffset\u001b[0m \u001b[0;34m==\u001b[0m \u001b[0;36m3\u001b[0m\u001b[0;34m:\u001b[0m\u001b[0;34m\u001b[0m\u001b[0m\n\u001b[1;32m    520\u001b[0m                     \u001b[0mc\u001b[0m\u001b[0;34m(\u001b[0m\u001b[0mname\u001b[0m\u001b[0;34m,\u001b[0m \u001b[0mold_value\u001b[0m\u001b[0;34m,\u001b[0m \u001b[0mnew_value\u001b[0m\u001b[0;34m)\u001b[0m\u001b[0;34m\u001b[0m\u001b[0m\n",
        "\u001b[0;32m<ipython-input-3-4033489b45db>\u001b[0m in \u001b[0;36mon_value_change\u001b[0;34m(name, val)\u001b[0m\n\u001b[1;32m     10\u001b[0m \u001b[0;32mdef\u001b[0m \u001b[0mon_value_change\u001b[0m\u001b[0;34m(\u001b[0m\u001b[0mname\u001b[0m\u001b[0;34m,\u001b[0m \u001b[0mval\u001b[0m\u001b[0;34m)\u001b[0m\u001b[0;34m:\u001b[0m\u001b[0;34m\u001b[0m\u001b[0m\n\u001b[1;32m     11\u001b[0m     \u001b[0mclear_output\u001b[0m\u001b[0;34m(\u001b[0m\u001b[0;34m)\u001b[0m\u001b[0;34m\u001b[0m\u001b[0m\n\u001b[0;32m---> 12\u001b[0;31m     \u001b[0mdisplay\u001b[0m\u001b[0;34m(\u001b[0m\u001b[0mYouTubeVideo\u001b[0m\u001b[0;34m(\u001b[0m\u001b[0mval\u001b[0m\u001b[0;34m)\u001b[0m\u001b[0;34m)\u001b[0m\u001b[0;34m\u001b[0m\u001b[0m\n\u001b[0m\u001b[1;32m     13\u001b[0m \u001b[0;31m# Every time the user selects an item, the function\u001b[0m\u001b[0;34m\u001b[0m\u001b[0;34m\u001b[0m\u001b[0m\n\u001b[1;32m     14\u001b[0m \u001b[0;31m# `on_value_change` is called, and the `val` argument\u001b[0m\u001b[0;34m\u001b[0m\u001b[0;34m\u001b[0m\u001b[0m\n",
        "\u001b[0;31mNameError\u001b[0m: global name 'YouTubeVideo' is not defined"
       ]
      }
     ],
     "prompt_number": 3
    },
    {
     "cell_type": "code",
     "collapsed": false,
     "input": [
      "import numpy as np\n",
      "import pandas as pd\n",
      "import matplotlib.pyplot as plt\n",
      "%matplotlib inline"
     ],
     "language": "python",
     "metadata": {},
     "outputs": [],
     "prompt_number": 6
    },
    {
     "cell_type": "code",
     "collapsed": false,
     "input": [
      "url = \"http://donnees.ville.montreal.qc.ca/storage/f/2014-01-20T20%3A48%3A50.296Z/2013.csv\""
     ],
     "language": "python",
     "metadata": {},
     "outputs": [],
     "prompt_number": 7
    },
    {
     "cell_type": "code",
     "collapsed": false,
     "input": [
      "df = pd.read_csv(url, index_col='Date', parse_dates=True, dayfirst=True)"
     ],
     "language": "python",
     "metadata": {},
     "outputs": [],
     "prompt_number": 8
    },
    {
     "cell_type": "code",
     "collapsed": false,
     "input": [
      "df.head(2)"
     ],
     "language": "python",
     "metadata": {},
     "outputs": [
      {
       "html": [
        "<div style=\"max-height:1000px;max-width:1500px;overflow:auto;\">\n",
        "<table border=\"1\" class=\"dataframe\">\n",
        "  <thead>\n",
        "    <tr style=\"text-align: right;\">\n",
        "      <th></th>\n",
        "      <th>Unnamed: 1</th>\n",
        "      <th>Berri1</th>\n",
        "      <th>CSC</th>\n",
        "      <th>Mais1</th>\n",
        "      <th>Mais2</th>\n",
        "      <th>Parc</th>\n",
        "      <th>PierDup</th>\n",
        "      <th>Rachel1</th>\n",
        "      <th>Totem_Laurier</th>\n",
        "    </tr>\n",
        "    <tr>\n",
        "      <th>Date</th>\n",
        "      <th></th>\n",
        "      <th></th>\n",
        "      <th></th>\n",
        "      <th></th>\n",
        "      <th></th>\n",
        "      <th></th>\n",
        "      <th></th>\n",
        "      <th></th>\n",
        "      <th></th>\n",
        "    </tr>\n",
        "  </thead>\n",
        "  <tbody>\n",
        "    <tr>\n",
        "      <th>2013-01-01</th>\n",
        "      <td> 00:00</td>\n",
        "      <td>  0</td>\n",
        "      <td> 0</td>\n",
        "      <td>  1</td>\n",
        "      <td> 0</td>\n",
        "      <td>  6</td>\n",
        "      <td> 0</td>\n",
        "      <td> 1</td>\n",
        "      <td> 0</td>\n",
        "    </tr>\n",
        "    <tr>\n",
        "      <th>2013-01-02</th>\n",
        "      <td> 00:00</td>\n",
        "      <td> 69</td>\n",
        "      <td> 0</td>\n",
        "      <td> 13</td>\n",
        "      <td> 0</td>\n",
        "      <td> 18</td>\n",
        "      <td> 0</td>\n",
        "      <td> 2</td>\n",
        "      <td> 0</td>\n",
        "    </tr>\n",
        "  </tbody>\n",
        "</table>\n",
        "</div>"
       ],
       "metadata": {},
       "output_type": "pyout",
       "prompt_number": 9,
       "text": [
        "           Unnamed: 1  Berri1  CSC  Mais1  Mais2  Parc  PierDup  Rachel1  \\\n",
        "Date                                                                       \n",
        "2013-01-01      00:00       0    0      1      0     6        0        1   \n",
        "2013-01-02      00:00      69    0     13      0    18        0        2   \n",
        "\n",
        "            Totem_Laurier  \n",
        "Date                       \n",
        "2013-01-01              0  \n",
        "2013-01-02              0  "
       ]
      }
     ],
     "prompt_number": 9
    },
    {
     "cell_type": "code",
     "collapsed": false,
     "input": [
      "df.describe()"
     ],
     "language": "python",
     "metadata": {},
     "outputs": [
      {
       "html": [
        "<div style=\"max-height:1000px;max-width:1500px;overflow:auto;\">\n",
        "<table border=\"1\" class=\"dataframe\">\n",
        "  <thead>\n",
        "    <tr style=\"text-align: right;\">\n",
        "      <th></th>\n",
        "      <th>Berri1</th>\n",
        "      <th>CSC</th>\n",
        "      <th>Mais1</th>\n",
        "      <th>Mais2</th>\n",
        "      <th>Parc</th>\n",
        "      <th>PierDup</th>\n",
        "      <th>Rachel1</th>\n",
        "      <th>Totem_Laurier</th>\n",
        "    </tr>\n",
        "  </thead>\n",
        "  <tbody>\n",
        "    <tr>\n",
        "      <th>count</th>\n",
        "      <td>  261.000000</td>\n",
        "      <td>  261.000000</td>\n",
        "      <td>  261.000000</td>\n",
        "      <td>  261.000000</td>\n",
        "      <td>  261.000000</td>\n",
        "      <td>  261.000000</td>\n",
        "      <td>  261.000000</td>\n",
        "      <td>  261.000000</td>\n",
        "    </tr>\n",
        "    <tr>\n",
        "      <th>mean</th>\n",
        "      <td> 2743.390805</td>\n",
        "      <td> 1221.858238</td>\n",
        "      <td> 1757.590038</td>\n",
        "      <td> 3224.130268</td>\n",
        "      <td> 1669.425287</td>\n",
        "      <td> 1152.885057</td>\n",
        "      <td> 3084.425287</td>\n",
        "      <td> 1858.793103</td>\n",
        "    </tr>\n",
        "    <tr>\n",
        "      <th>std</th>\n",
        "      <td> 2247.957848</td>\n",
        "      <td> 1070.037364</td>\n",
        "      <td> 1458.793882</td>\n",
        "      <td> 2589.514354</td>\n",
        "      <td> 1363.738862</td>\n",
        "      <td> 1208.848429</td>\n",
        "      <td> 2380.255540</td>\n",
        "      <td> 1434.899574</td>\n",
        "    </tr>\n",
        "    <tr>\n",
        "      <th>min</th>\n",
        "      <td>    0.000000</td>\n",
        "      <td>    0.000000</td>\n",
        "      <td>    1.000000</td>\n",
        "      <td>    0.000000</td>\n",
        "      <td>    6.000000</td>\n",
        "      <td>    0.000000</td>\n",
        "      <td>    0.000000</td>\n",
        "      <td>    0.000000</td>\n",
        "    </tr>\n",
        "    <tr>\n",
        "      <th>25%</th>\n",
        "      <td>  392.000000</td>\n",
        "      <td>   12.000000</td>\n",
        "      <td>  236.000000</td>\n",
        "      <td>  516.000000</td>\n",
        "      <td>  222.000000</td>\n",
        "      <td>   12.000000</td>\n",
        "      <td>  451.000000</td>\n",
        "      <td>  340.000000</td>\n",
        "    </tr>\n",
        "    <tr>\n",
        "      <th>50%</th>\n",
        "      <td> 2771.000000</td>\n",
        "      <td> 1184.000000</td>\n",
        "      <td> 1706.000000</td>\n",
        "      <td> 3178.000000</td>\n",
        "      <td> 1584.000000</td>\n",
        "      <td>  818.000000</td>\n",
        "      <td> 3111.000000</td>\n",
        "      <td> 2087.000000</td>\n",
        "    </tr>\n",
        "    <tr>\n",
        "      <th>75%</th>\n",
        "      <td> 4767.000000</td>\n",
        "      <td> 2168.000000</td>\n",
        "      <td> 3158.000000</td>\n",
        "      <td> 5812.000000</td>\n",
        "      <td> 3068.000000</td>\n",
        "      <td> 2104.000000</td>\n",
        "      <td> 5338.000000</td>\n",
        "      <td> 3168.000000</td>\n",
        "    </tr>\n",
        "    <tr>\n",
        "      <th>max</th>\n",
        "      <td> 6803.000000</td>\n",
        "      <td> 3330.000000</td>\n",
        "      <td> 4716.000000</td>\n",
        "      <td> 7684.000000</td>\n",
        "      <td> 4103.000000</td>\n",
        "      <td> 4841.000000</td>\n",
        "      <td> 8555.000000</td>\n",
        "      <td> 4293.000000</td>\n",
        "    </tr>\n",
        "  </tbody>\n",
        "</table>\n",
        "</div>"
       ],
       "metadata": {},
       "output_type": "pyout",
       "prompt_number": 10,
       "text": [
        "            Berri1          CSC        Mais1        Mais2         Parc  \\\n",
        "count   261.000000   261.000000   261.000000   261.000000   261.000000   \n",
        "mean   2743.390805  1221.858238  1757.590038  3224.130268  1669.425287   \n",
        "std    2247.957848  1070.037364  1458.793882  2589.514354  1363.738862   \n",
        "min       0.000000     0.000000     1.000000     0.000000     6.000000   \n",
        "25%     392.000000    12.000000   236.000000   516.000000   222.000000   \n",
        "50%    2771.000000  1184.000000  1706.000000  3178.000000  1584.000000   \n",
        "75%    4767.000000  2168.000000  3158.000000  5812.000000  3068.000000   \n",
        "max    6803.000000  3330.000000  4716.000000  7684.000000  4103.000000   \n",
        "\n",
        "           PierDup      Rachel1  Totem_Laurier  \n",
        "count   261.000000   261.000000     261.000000  \n",
        "mean   1152.885057  3084.425287    1858.793103  \n",
        "std    1208.848429  2380.255540    1434.899574  \n",
        "min       0.000000     0.000000       0.000000  \n",
        "25%      12.000000   451.000000     340.000000  \n",
        "50%     818.000000  3111.000000    2087.000000  \n",
        "75%    2104.000000  5338.000000    3168.000000  \n",
        "max    4841.000000  8555.000000    4293.000000  "
       ]
      }
     ],
     "prompt_number": 10
    },
    {
     "cell_type": "code",
     "collapsed": false,
     "input": [
      "df[['Berri1','PierDup']].plot(figsize = (8,4), style = ['-','--']);"
     ],
     "language": "python",
     "metadata": {},
     "outputs": [
      {
       "metadata": {},
       "output_type": "display_data",
       "png": "[encoded data removed]",
       "text": [
        "<matplotlib.figure.Figure at 0x107a36110>"
       ]
      }
     ],
     "prompt_number": 11
    },
    {
     "cell_type": "code",
     "collapsed": false,
     "input": [
      "df.index.weekday"
     ],
     "language": "python",
     "metadata": {},
     "outputs": [
      {
       "metadata": {},
       "output_type": "pyout",
       "prompt_number": 12,
       "text": [
        "array([1, 2, 3, 4, 5, 6, 0, 1, 2, 3, 4, 5, 6, 0, 1, 2, 3, 4, 5, 6, 0, 1, 2,\n",
        "       3, 4, 5, 6, 0, 1, 2, 3, 4, 5, 6, 0, 1, 2, 3, 4, 5, 6, 0, 1, 2, 3, 4,\n",
        "       5, 6, 0, 1, 2, 3, 4, 5, 6, 0, 1, 2, 3, 4, 5, 6, 0, 1, 2, 3, 4, 5, 6,\n",
        "       0, 1, 2, 3, 4, 5, 6, 0, 1, 2, 3, 4, 5, 6, 0, 1, 2, 3, 4, 5, 6, 0, 1,\n",
        "       2, 3, 4, 5, 6, 0, 1, 2, 3, 4, 5, 6, 0, 1, 2, 3, 4, 5, 6, 0, 1, 2, 3,\n",
        "       4, 5, 6, 0, 1, 2, 3, 4, 5, 6, 0, 1, 2, 3, 4, 5, 6, 0, 1, 2, 3, 4, 5,\n",
        "       6, 0, 1, 2, 3, 4, 5, 6, 0, 1, 2, 3, 4, 5, 6, 0, 1, 2, 3, 4, 5, 6, 0,\n",
        "       1, 2, 3, 4, 5, 6, 0, 1, 2, 3, 4, 5, 6, 0, 1, 2, 3, 4, 5, 6, 0, 1, 2,\n",
        "       3, 4, 5, 6, 0, 1, 2, 3, 4, 5, 6, 0, 1, 2, 3, 4, 5, 6, 0, 1, 2, 3, 4,\n",
        "       5, 6, 0, 1, 2, 3, 4, 5, 6, 0, 1, 2, 3, 4, 5, 6, 0, 1, 2, 3, 4, 5, 6,\n",
        "       0, 1, 2, 3, 4, 5, 6, 0, 1, 2, 3, 4, 5, 6, 0, 1, 2, 3, 4, 5, 6, 0, 1,\n",
        "       2, 3, 4, 5, 6, 0, 1, 2])"
       ]
      }
     ],
     "prompt_number": 12
    },
    {
     "cell_type": "code",
     "collapsed": false,
     "input": [
      "days = np.array(['Monday','Tuesday','Wednesday','Thursday','Friday','Saturday','Sunday'])\n",
      "df['Weekday'] = days[df.index.weekday]"
     ],
     "language": "python",
     "metadata": {},
     "outputs": [],
     "prompt_number": 13
    },
    {
     "cell_type": "code",
     "collapsed": false,
     "input": [
      "df_week = df.groupby('Weekday').sum()"
     ],
     "language": "python",
     "metadata": {},
     "outputs": [],
     "prompt_number": 14
    },
    {
     "cell_type": "code",
     "collapsed": false,
     "input": [
      "df_week"
     ],
     "language": "python",
     "metadata": {},
     "outputs": [
      {
       "html": [
        "<div style=\"max-height:1000px;max-width:1500px;overflow:auto;\">\n",
        "<table border=\"1\" class=\"dataframe\">\n",
        "  <thead>\n",
        "    <tr style=\"text-align: right;\">\n",
        "      <th></th>\n",
        "      <th>Berri1</th>\n",
        "      <th>CSC</th>\n",
        "      <th>Mais1</th>\n",
        "      <th>Mais2</th>\n",
        "      <th>Parc</th>\n",
        "      <th>PierDup</th>\n",
        "      <th>Rachel1</th>\n",
        "      <th>Totem_Laurier</th>\n",
        "    </tr>\n",
        "    <tr>\n",
        "      <th>Weekday</th>\n",
        "      <th></th>\n",
        "      <th></th>\n",
        "      <th></th>\n",
        "      <th></th>\n",
        "      <th></th>\n",
        "      <th></th>\n",
        "      <th></th>\n",
        "      <th></th>\n",
        "    </tr>\n",
        "  </thead>\n",
        "  <tbody>\n",
        "    <tr>\n",
        "      <th>Friday</th>\n",
        "      <td> 105701</td>\n",
        "      <td> 44252</td>\n",
        "      <td> 71605</td>\n",
        "      <td> 127526</td>\n",
        "      <td> 64385</td>\n",
        "      <td> 36850</td>\n",
        "      <td> 118556</td>\n",
        "      <td> 71426</td>\n",
        "    </tr>\n",
        "    <tr>\n",
        "      <th>Monday</th>\n",
        "      <td> 106826</td>\n",
        "      <td> 51646</td>\n",
        "      <td> 68087</td>\n",
        "      <td> 129982</td>\n",
        "      <td> 69767</td>\n",
        "      <td> 44500</td>\n",
        "      <td> 119211</td>\n",
        "      <td> 72883</td>\n",
        "    </tr>\n",
        "    <tr>\n",
        "      <th>Saturday</th>\n",
        "      <td>  75754</td>\n",
        "      <td> 27226</td>\n",
        "      <td> 45947</td>\n",
        "      <td>  79743</td>\n",
        "      <td> 35544</td>\n",
        "      <td> 46149</td>\n",
        "      <td>  97143</td>\n",
        "      <td> 56438</td>\n",
        "    </tr>\n",
        "    <tr>\n",
        "      <th>Sunday</th>\n",
        "      <td>  74873</td>\n",
        "      <td> 29181</td>\n",
        "      <td> 40812</td>\n",
        "      <td>  75746</td>\n",
        "      <td> 37620</td>\n",
        "      <td> 53812</td>\n",
        "      <td> 100735</td>\n",
        "      <td> 53798</td>\n",
        "    </tr>\n",
        "    <tr>\n",
        "      <th>Thursday</th>\n",
        "      <td> 115193</td>\n",
        "      <td> 52340</td>\n",
        "      <td> 76273</td>\n",
        "      <td> 141424</td>\n",
        "      <td> 73668</td>\n",
        "      <td> 36349</td>\n",
        "      <td> 120684</td>\n",
        "      <td> 74540</td>\n",
        "    </tr>\n",
        "    <tr>\n",
        "      <th>Tuesday</th>\n",
        "      <td> 117244</td>\n",
        "      <td> 54656</td>\n",
        "      <td> 76974</td>\n",
        "      <td> 141217</td>\n",
        "      <td> 74299</td>\n",
        "      <td> 40679</td>\n",
        "      <td> 123533</td>\n",
        "      <td> 76559</td>\n",
        "    </tr>\n",
        "    <tr>\n",
        "      <th>Wednesday</th>\n",
        "      <td> 120434</td>\n",
        "      <td> 59604</td>\n",
        "      <td> 79033</td>\n",
        "      <td> 145860</td>\n",
        "      <td> 80437</td>\n",
        "      <td> 42564</td>\n",
        "      <td> 125173</td>\n",
        "      <td> 79501</td>\n",
        "    </tr>\n",
        "  </tbody>\n",
        "</table>\n",
        "</div>"
       ],
       "metadata": {},
       "output_type": "pyout",
       "prompt_number": 15,
       "text": [
        "           Berri1    CSC  Mais1   Mais2   Parc  PierDup  Rachel1  \\\n",
        "Weekday                                                            \n",
        "Friday     105701  44252  71605  127526  64385    36850   118556   \n",
        "Monday     106826  51646  68087  129982  69767    44500   119211   \n",
        "Saturday    75754  27226  45947   79743  35544    46149    97143   \n",
        "Sunday      74873  29181  40812   75746  37620    53812   100735   \n",
        "Thursday   115193  52340  76273  141424  73668    36349   120684   \n",
        "Tuesday    117244  54656  76974  141217  74299    40679   123533   \n",
        "Wednesday  120434  59604  79033  145860  80437    42564   125173   \n",
        "\n",
        "           Totem_Laurier  \n",
        "Weekday                   \n",
        "Friday             71426  \n",
        "Monday             72883  \n",
        "Saturday           56438  \n",
        "Sunday             53798  \n",
        "Thursday           74540  \n",
        "Tuesday            76559  \n",
        "Wednesday          79501  "
       ]
      }
     ],
     "prompt_number": 15
    },
    {
     "cell_type": "code",
     "collapsed": false,
     "input": [
      "df_week.ix[days].plot(lw = 3,figsize = (6,4));\n",
      "plt.ylim(0)"
     ],
     "language": "python",
     "metadata": {},
     "outputs": [
      {
       "metadata": {},
       "output_type": "pyout",
       "prompt_number": 17,
       "text": [
        "(0, 160000.0)"
       ]
      },
      {
       "metadata": {},
       "output_type": "display_data",
       "png": "[encoded data removed]",
       "text": [
        "<matplotlib.figure.Figure at 0x1079051d0>"
       ]
      }
     ],
     "prompt_number": 17
    },
    {
     "cell_type": "code",
     "collapsed": false,
     "input": [
      "from IPython.html.widgets import interact\n",
      "@interact\n",
      "def plot(n = (1,30)):\n",
      "    plt.figure(figsize=(8,4));\n",
      "    pd.rolling_mean(df['Berri1'],n).dropna().plot();\n",
      "    plt.ylim(0,8000);\n",
      "    plt.show();"
     ],
     "language": "python",
     "metadata": {},
     "outputs": [
      {
       "metadata": {},
       "output_type": "display_data",
       "png": "[encoded data removed]",
       "text": [
        "<matplotlib.figure.Figure at 0x10a747c90>"
       ]
      }
     ],
     "prompt_number": 19
    },
    {
     "cell_type": "code",
     "collapsed": false,
     "input": [
      "import random"
     ],
     "language": "python",
     "metadata": {},
     "outputs": [],
     "prompt_number": 20
    },
    {
     "cell_type": "code",
     "collapsed": false,
     "input": [
      "import numpy as np"
     ],
     "language": "python",
     "metadata": {},
     "outputs": [],
     "prompt_number": 21
    },
    {
     "cell_type": "code",
     "collapsed": false,
     "input": [
      "%precision 3"
     ],
     "language": "python",
     "metadata": {},
     "outputs": [
      {
       "metadata": {},
       "output_type": "pyout",
       "prompt_number": 22,
       "text": [
        "u'%.3f'"
       ]
      }
     ],
     "prompt_number": 22
    },
    {
     "cell_type": "code",
     "collapsed": false,
     "input": [
      "n =1000000\n",
      "x = [random.random() for _ in range(n)]\n",
      "y = [random.random() for _ in range(n)]"
     ],
     "language": "python",
     "metadata": {},
     "outputs": [],
     "prompt_number": 23
    },
    {
     "cell_type": "code",
     "collapsed": false,
     "input": [
      "x[:3],y[:3]"
     ],
     "language": "python",
     "metadata": {},
     "outputs": [
      {
       "metadata": {},
       "output_type": "pyout",
       "prompt_number": 24,
       "text": [
        "([0.293, 0.344, 0.493], [0.217, 0.867, 0.098])"
       ]
      }
     ],
     "prompt_number": 24
    },
    {
     "cell_type": "code",
     "collapsed": false,
     "input": [
      "z = [x[i]+y[i] for i in range(n)]\n",
      "z[:3]"
     ],
     "language": "python",
     "metadata": {},
     "outputs": [
      {
       "metadata": {},
       "output_type": "pyout",
       "prompt_number": 25,
       "text": [
        "[0.509, 1.211, 0.591]"
       ]
      }
     ],
     "prompt_number": 25
    },
    {
     "cell_type": "code",
     "collapsed": false,
     "input": [
      "%timeit [x[i]+y[i] for i in range(n)]"
     ],
     "language": "python",
     "metadata": {},
     "outputs": [
      {
       "output_type": "stream",
       "stream": "stdout",
       "text": [
        "1 loops, best of 3: 164 ms per loop\n"
       ]
      }
     ],
     "prompt_number": 28
    },
    {
     "cell_type": "code",
     "collapsed": false,
     "input": [
      "xa = np.array(x)\n",
      "ya = np.array(y)"
     ],
     "language": "python",
     "metadata": {},
     "outputs": [],
     "prompt_number": 29
    },
    {
     "cell_type": "code",
     "collapsed": false,
     "input": [
      "xa[:3]"
     ],
     "language": "python",
     "metadata": {},
     "outputs": [
      {
       "metadata": {},
       "output_type": "pyout",
       "prompt_number": 30,
       "text": [
        "array([ 0.293,  0.344,  0.493])"
       ]
      }
     ],
     "prompt_number": 30
    },
    {
     "cell_type": "code",
     "collapsed": false,
     "input": [
      "za = xa+ya"
     ],
     "language": "python",
     "metadata": {},
     "outputs": [],
     "prompt_number": 31
    },
    {
     "cell_type": "code",
     "collapsed": false,
     "input": [
      "za[:3]"
     ],
     "language": "python",
     "metadata": {},
     "outputs": [
      {
       "metadata": {},
       "output_type": "pyout",
       "prompt_number": 32,
       "text": [
        "array([ 0.509,  1.211,  0.591])"
       ]
      }
     ],
     "prompt_number": 32
    },
    {
     "cell_type": "code",
     "collapsed": false,
     "input": [
      "%timeit xa+ya"
     ],
     "language": "python",
     "metadata": {},
     "outputs": [
      {
       "output_type": "stream",
       "stream": "stdout",
       "text": [
        "100 loops, best of 3: 3.8 ms per loop\n"
       ]
      }
     ],
     "prompt_number": 33
    },
    {
     "cell_type": "code",
     "collapsed": false,
     "input": [
      "%timeit sum(x)\n",
      "%timeit np.sum(xa)"
     ],
     "language": "python",
     "metadata": {},
     "outputs": [
      {
       "output_type": "stream",
       "stream": "stdout",
       "text": [
        "100 loops, best of 3: 10.7 ms per loop\n",
        "1000 loops, best of 3: 896 \u00b5s per loop"
       ]
      },
      {
       "output_type": "stream",
       "stream": "stdout",
       "text": [
        "\n"
       ]
      }
     ],
     "prompt_number": 34
    },
    {
     "cell_type": "code",
     "collapsed": false,
     "input": [
      "d= [abs(x[i]-y[j]) for i in range(1000) for j in range(1000)]"
     ],
     "language": "python",
     "metadata": {},
     "outputs": [],
     "prompt_number": 35
    },
    {
     "cell_type": "code",
     "collapsed": false,
     "input": [
      "d[:3]"
     ],
     "language": "python",
     "metadata": {},
     "outputs": [
      {
       "metadata": {},
       "output_type": "pyout",
       "prompt_number": 36,
       "text": [
        "[0.076, 0.574, 0.195]"
       ]
      }
     ],
     "prompt_number": 36
    },
    {
     "cell_type": "code",
     "collapsed": false,
     "input": [
      "da = np.abs(xa[:1000,None]-ya[:1000])\n",
      "da"
     ],
     "language": "python",
     "metadata": {},
     "outputs": [
      {
       "metadata": {},
       "output_type": "pyout",
       "prompt_number": 37,
       "text": [
        "array([[ 0.076,  0.574,  0.195, ...,  0.486,  0.563,  0.143],\n",
        "       [ 0.128,  0.523,  0.246, ...,  0.435,  0.511,  0.194],\n",
        "       [ 0.277,  0.374,  0.395, ...,  0.286,  0.362,  0.343],\n",
        "       ..., \n",
        "       [ 0.536,  0.114,  0.655, ...,  0.026,  0.103,  0.603],\n",
        "       [ 0.01 ,  0.66 ,  0.109, ...,  0.572,  0.649,  0.057],\n",
        "       [ 0.066,  0.716,  0.053, ...,  0.628,  0.704,  0.001]])"
       ]
      }
     ],
     "prompt_number": 37
    },
    {
     "cell_type": "code",
     "collapsed": false,
     "input": [
      "%timeit [abs(x[i]-y[j]) for i in range(1000) for j in range(1000)]\n",
      "%timeit np.abs(xa[:1000,None] - ya[:1000])"
     ],
     "language": "python",
     "metadata": {},
     "outputs": [
      {
       "output_type": "stream",
       "stream": "stdout",
       "text": [
        "1 loops, best of 3: 189 ms per loop\n",
        "100 loops, best of 3: 6.73 ms per loop"
       ]
      },
      {
       "output_type": "stream",
       "stream": "stdout",
       "text": [
        "\n"
       ]
      }
     ],
     "prompt_number": 38
    },
    {
     "cell_type": "code",
     "collapsed": false,
     "input": [
      "from IPython.core.magic import (register_line_magic,register_cell_magic)"
     ],
     "language": "python",
     "metadata": {},
     "outputs": [],
     "prompt_number": 39
    },
    {
     "cell_type": "code",
     "collapsed": false,
     "input": [
      "@register_line_magic\n",
      "def hello(line):\n",
      "    if line == 'french':\n",
      "        print (\"Salut le monde!\")\n",
      "    else:\n",
      "        print(\"Hello World!\")"
     ],
     "language": "python",
     "metadata": {},
     "outputs": [],
     "prompt_number": 40
    },
    {
     "cell_type": "code",
     "collapsed": false,
     "input": [
      "%hello"
     ],
     "language": "python",
     "metadata": {},
     "outputs": [
      {
       "output_type": "stream",
       "stream": "stdout",
       "text": [
        "Hello World!\n"
       ]
      }
     ],
     "prompt_number": 41
    },
    {
     "cell_type": "code",
     "collapsed": false,
     "input": [
      "%hello french"
     ],
     "language": "python",
     "metadata": {},
     "outputs": [
      {
       "output_type": "stream",
       "stream": "stdout",
       "text": [
        "Salut le monde!\n"
       ]
      }
     ],
     "prompt_number": 42
    },
    {
     "cell_type": "code",
     "collapsed": false,
     "input": [
      "df_week"
     ],
     "language": "python",
     "metadata": {},
     "outputs": [
      {
       "ename": "NameError",
       "evalue": "name 'df_week' is not defined",
       "output_type": "pyerr",
       "traceback": [
        "\u001b[0;31m---------------------------------------------------------------------------\u001b[0m\n\u001b[0;31mNameError\u001b[0m                                 Traceback (most recent call last)",
        "\u001b[0;32m<ipython-input-1-e317a8045248>\u001b[0m in \u001b[0;36m<module>\u001b[0;34m()\u001b[0m\n\u001b[0;32m----> 1\u001b[0;31m \u001b[0mdf_week\u001b[0m\u001b[0;34m\u001b[0m\u001b[0m\n\u001b[0m",
        "\u001b[0;31mNameError\u001b[0m: name 'df_week' is not defined"
       ]
      }
     ],
     "prompt_number": 1
    },
    {
     "cell_type": "code",
     "collapsed": false,
     "input": [
      "from IPython.core.magic import (register_line_magic, \n",
      "                                register_cell_magic)"
     ],
     "language": "python",
     "metadata": {},
     "outputs": [],
     "prompt_number": 2
    },
    {
     "cell_type": "code",
     "collapsed": false,
     "input": [
      "@register_line_magic\n",
      "def hello(line):\n",
      "    if line == 'french':\n",
      "        print(\"Salut tout le monde!\")\n",
      "    else:\n",
      "        print(\"Hello world!\")"
     ],
     "language": "python",
     "metadata": {},
     "outputs": [],
     "prompt_number": 3
    },
    {
     "cell_type": "code",
     "collapsed": false,
     "input": [
      "%hello"
     ],
     "language": "python",
     "metadata": {},
     "outputs": [
      {
       "output_type": "stream",
       "stream": "stdout",
       "text": [
        "Hello world!\n"
       ]
      }
     ],
     "prompt_number": 4
    },
    {
     "cell_type": "code",
     "collapsed": false,
     "input": [
      "%hello french"
     ],
     "language": "python",
     "metadata": {},
     "outputs": [
      {
       "output_type": "stream",
       "stream": "stdout",
       "text": [
        "Salut tout le monde!\n"
       ]
      }
     ],
     "prompt_number": 5
    },
    {
     "cell_type": "code",
     "collapsed": false,
     "input": [
      "import pandas as pd\n",
      "from io import StringIO\n",
      "@register_cell_magic\n",
      "def csv(line, cell):\n",
      "    sio = StringIO(cell)\n",
      "    return pd.read_csv(sio)"
     ],
     "language": "python",
     "metadata": {},
     "outputs": [],
     "prompt_number": 9
    },
    {
     "cell_type": "code",
     "collapsed": false,
     "input": [
      "%%csv \n",
      "col1, col2, col3\n",
      "0,1,2\n",
      "3,4,5\n",
      "7,8,9"
     ],
     "language": "python",
     "metadata": {},
     "outputs": [
      {
       "html": [
        "<div style=\"max-height:1000px;max-width:1500px;overflow:auto;\">\n",
        "<table border=\"1\" class=\"dataframe\">\n",
        "  <thead>\n",
        "    <tr style=\"text-align: right;\">\n",
        "      <th></th>\n",
        "      <th>col1</th>\n",
        "      <th> col2</th>\n",
        "      <th> col3</th>\n",
        "    </tr>\n",
        "  </thead>\n",
        "  <tbody>\n",
        "    <tr>\n",
        "      <th>0</th>\n",
        "      <td> 0</td>\n",
        "      <td> 1</td>\n",
        "      <td> 2</td>\n",
        "    </tr>\n",
        "    <tr>\n",
        "      <th>1</th>\n",
        "      <td> 3</td>\n",
        "      <td> 4</td>\n",
        "      <td> 5</td>\n",
        "    </tr>\n",
        "    <tr>\n",
        "      <th>2</th>\n",
        "      <td> 7</td>\n",
        "      <td> 8</td>\n",
        "      <td> 9</td>\n",
        "    </tr>\n",
        "  </tbody>\n",
        "</table>\n",
        "</div>"
       ],
       "metadata": {},
       "output_type": "pyout",
       "prompt_number": 10,
       "text": [
        "   col1   col2   col3\n",
        "0     0      1      2\n",
        "1     3      4      5\n",
        "2     7      8      9"
       ]
      }
     ],
     "prompt_number": 10
    },
    {
     "cell_type": "code",
     "collapsed": false,
     "input": [
      "df = _\n",
      "df.describe()"
     ],
     "language": "python",
     "metadata": {},
     "outputs": [
      {
       "html": [
        "<div style=\"max-height:1000px;max-width:1500px;overflow:auto;\">\n",
        "<table border=\"1\" class=\"dataframe\">\n",
        "  <thead>\n",
        "    <tr style=\"text-align: right;\">\n",
        "      <th></th>\n",
        "      <th>col1</th>\n",
        "      <th> col2</th>\n",
        "      <th> col3</th>\n",
        "    </tr>\n",
        "  </thead>\n",
        "  <tbody>\n",
        "    <tr>\n",
        "      <th>count</th>\n",
        "      <td> 3.000000</td>\n",
        "      <td> 3.000000</td>\n",
        "      <td> 3.000000</td>\n",
        "    </tr>\n",
        "    <tr>\n",
        "      <th>mean</th>\n",
        "      <td> 3.333333</td>\n",
        "      <td> 4.333333</td>\n",
        "      <td> 5.333333</td>\n",
        "    </tr>\n",
        "    <tr>\n",
        "      <th>std</th>\n",
        "      <td> 3.511885</td>\n",
        "      <td> 3.511885</td>\n",
        "      <td> 3.511885</td>\n",
        "    </tr>\n",
        "    <tr>\n",
        "      <th>min</th>\n",
        "      <td> 0.000000</td>\n",
        "      <td> 1.000000</td>\n",
        "      <td> 2.000000</td>\n",
        "    </tr>\n",
        "    <tr>\n",
        "      <th>25%</th>\n",
        "      <td> 1.500000</td>\n",
        "      <td> 2.500000</td>\n",
        "      <td> 3.500000</td>\n",
        "    </tr>\n",
        "    <tr>\n",
        "      <th>50%</th>\n",
        "      <td> 3.000000</td>\n",
        "      <td> 4.000000</td>\n",
        "      <td> 5.000000</td>\n",
        "    </tr>\n",
        "    <tr>\n",
        "      <th>75%</th>\n",
        "      <td> 5.000000</td>\n",
        "      <td> 6.000000</td>\n",
        "      <td> 7.000000</td>\n",
        "    </tr>\n",
        "    <tr>\n",
        "      <th>max</th>\n",
        "      <td> 7.000000</td>\n",
        "      <td> 8.000000</td>\n",
        "      <td> 9.000000</td>\n",
        "    </tr>\n",
        "  </tbody>\n",
        "</table>\n",
        "</div>"
       ],
       "metadata": {},
       "output_type": "pyout",
       "prompt_number": 11,
       "text": [
        "           col1      col2      col3\n",
        "count  3.000000  3.000000  3.000000\n",
        "mean   3.333333  4.333333  5.333333\n",
        "std    3.511885  3.511885  3.511885\n",
        "min    0.000000  1.000000  2.000000\n",
        "25%    1.500000  2.500000  3.500000\n",
        "50%    3.000000  4.000000  5.000000\n",
        "75%    5.000000  6.000000  7.000000\n",
        "max    7.000000  8.000000  9.000000"
       ]
      }
     ],
     "prompt_number": 11
    },
    {
     "cell_type": "code",
     "collapsed": false,
     "input": [
      "%%writefile csvmagic.py\n",
      "import pandas as pd\n",
      "from io import StringIO\n",
      "def csv(line, cell):\n",
      "    sio = StringIO(cell)\n",
      "    return pd.read_csv(sio)\n",
      "def load_ipython_extension(ipython):\n",
      "    \"\"\"This function is called when the extension is loaded.\n",
      "    It accepts an IPython InteractiveShell instance.\n",
      "    We can register the magic with the `register_magic_function`\n",
      "    method of the shell instance.\"\"\"\n",
      "    ipython.register_magic_function(csv, 'cell')"
     ],
     "language": "python",
     "metadata": {},
     "outputs": [
      {
       "output_type": "stream",
       "stream": "stdout",
       "text": [
        "Writing csvmagic.py\n"
       ]
      }
     ],
     "prompt_number": 12
    },
    {
     "cell_type": "code",
     "collapsed": false,
     "input": [],
     "language": "python",
     "metadata": {},
     "outputs": []
    }
   ],
   "metadata": {}
  }
 ]
}